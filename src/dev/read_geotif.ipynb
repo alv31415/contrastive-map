{
 "cells": [
  {
   "cell_type": "code",
   "execution_count": 4,
   "id": "63602314-0fb1-45da-88c3-a9e0673285a6",
   "metadata": {},
   "outputs": [],
   "source": [
    "import PIL\n",
    "from PIL import Image\n",
    "from PIL.TiffTags import TAGS\n",
    "PIL.Image.MAX_IMAGE_PIXELS = 933120000"
   ]
  },
  {
   "cell_type": "code",
   "execution_count": 7,
   "id": "67f69d46-9fb3-4d27-8b66-719f5f49d895",
   "metadata": {},
   "outputs": [],
   "source": [
    "img = Image.open('data/originals/82877409.27.tif')\n",
    "meta_dict = {TAGS[key] : img.tag[key] for key in img.tag_v2}"
   ]
  },
  {
   "cell_type": "code",
   "execution_count": 10,
   "id": "155373b7-6864-4b37-8c47-e3da3137858e",
   "metadata": {},
   "outputs": [
    {
     "name": "stdout",
     "output_type": "stream",
     "text": [
      "ImageWidth\n",
      "ImageLength\n",
      "BitsPerSample\n",
      "Compression\n",
      "ModelTiepointTag\n",
      "GDAL_NODATA\n",
      "PhotometricInterpretation\n",
      "ModelPixelScaleTag\n",
      "StripOffsets\n",
      "SampleFormat\n",
      "SamplesPerPixel\n",
      "RowsPerStrip\n",
      "StripByteCounts\n",
      "PlanarConfiguration\n",
      "GeoKeyDirectoryTag\n",
      "GeoDoubleParamsTag\n",
      "GeoAsciiParamsTag\n"
     ]
    }
   ],
   "source": [
    "for key in meta_dict.keys():\n",
    "    print(key)"
   ]
  },
  {
   "cell_type": "code",
   "execution_count": 12,
   "id": "45330f1d-7a24-4158-889a-f9b634b9d8bf",
   "metadata": {},
   "outputs": [
    {
     "data": {
      "text/plain": [
       "(0.0, 0.0, 0.0, 325629.5161845312, 674663.987987392, 0.0)"
      ]
     },
     "execution_count": 12,
     "metadata": {},
     "output_type": "execute_result"
    }
   ],
   "source": [
    "meta_dict[\"ModelTiepointTag\"]"
   ]
  },
  {
   "cell_type": "code",
   "execution_count": 15,
   "id": "958242ff-c6df-4114-8aa2-44f2ade15338",
   "metadata": {},
   "outputs": [
    {
     "data": {
      "text/plain": [
       "84"
      ]
     },
     "execution_count": 15,
     "metadata": {},
     "output_type": "execute_result"
    }
   ],
   "source": [
    "len(meta_dict[\"GeoKeyDirectoryTag\"])"
   ]
  },
  {
   "cell_type": "code",
   "execution_count": 16,
   "id": "47c908e1-9b6d-4309-80da-e4c21bf6a2e8",
   "metadata": {},
   "outputs": [
    {
     "data": {
      "text/plain": [
       "(49.0, -2.0, 0.9996012717, 400000.0, -100000.0, 299.3249646, 6377563.396, 0.0)"
      ]
     },
     "execution_count": 16,
     "metadata": {},
     "output_type": "execute_result"
    }
   ],
   "source": [
    "meta_dict[\"GeoDoubleParamsTag\"]"
   ]
  },
  {
   "cell_type": "code",
   "execution_count": 17,
   "id": "e8c8dbfb-0fa9-4977-ba7d-10a3e8cc5b03",
   "metadata": {},
   "outputs": [
    {
     "data": {
      "text/plain": [
       "(0.15793608496243028, 0.15793608496243028, 0.0)"
      ]
     },
     "execution_count": 17,
     "metadata": {},
     "output_type": "execute_result"
    }
   ],
   "source": [
    "meta_dict[\"ModelPixelScaleTag\"]"
   ]
  },
  {
   "cell_type": "markdown",
   "id": "c309766a-df87-451a-bbe5-31725c04e349",
   "metadata": {},
   "source": [
    "https://wiki.openstreetmap.org/wiki/API_v0.6#Retrieving_map_data_by_bounding_box:_GET_/api/0.6/map"
   ]
  },
  {
   "cell_type": "markdown",
   "id": "13329ec4-c519-4137-ae72-f87c2485832e",
   "metadata": {},
   "source": [
    "GET /api/0.6/map?bbox=left,bottom,right,top"
   ]
  }
 ],
 "metadata": {
  "kernelspec": {
   "display_name": "henv",
   "language": "python",
   "name": "henv"
  },
  "language_info": {
   "codemirror_mode": {
    "name": "ipython",
    "version": 3
   },
   "file_extension": ".py",
   "mimetype": "text/x-python",
   "name": "python",
   "nbconvert_exporter": "python",
   "pygments_lexer": "ipython3",
   "version": "3.9.7"
  }
 },
 "nbformat": 4,
 "nbformat_minor": 5
}
