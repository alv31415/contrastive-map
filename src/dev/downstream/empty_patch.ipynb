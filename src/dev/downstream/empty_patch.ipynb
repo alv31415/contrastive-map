{
 "cells": [
  {
   "cell_type": "code",
   "execution_count": 61,
   "id": "06d540c4-79e0-43ef-af06-eec3110d9924",
   "metadata": {},
   "outputs": [],
   "source": [
    "import sys\n",
    "sys.path.append(\"../../py/\")"
   ]
  },
  {
   "cell_type": "code",
   "execution_count": 173,
   "id": "0ed8d2fd-083d-41e9-85b7-f2cdc40d609c",
   "metadata": {},
   "outputs": [],
   "source": [
    "import os\n",
    "import logging\n",
    "import pickle as pk\n",
    "from datetime import datetime\n",
    "\n",
    "import numpy as np\n",
    "import cv2 as cv\n",
    "import matplotlib.pyplot as plt\n",
    "import seaborn as sns\n",
    "\n",
    "logger = logging.getLogger()\n",
    "logger.setLevel(logging.INFO)\n",
    "\n",
    "logging.basicConfig(format='%(asctime)s %(levelname)-4s %(message)s',\n",
    "                    level=logging.INFO,\n",
    "                    datefmt='%d-%m-%Y %H:%M:%S')\n",
    "\n",
    "import torch\n",
    "import torch.nn as nn\n",
    "import torch.optim as optim\n",
    "from torch.utils.data import Dataset\n",
    "\n",
    "from mlp import MLP"
   ]
  },
  {
   "cell_type": "code",
   "execution_count": 151,
   "id": "207e4a47-d8bd-4ef6-bcab-449e7899bf49",
   "metadata": {},
   "outputs": [],
   "source": [
    "class EmptyPatchDataset():\n",
    "    def __init__(self, patch_dataset, n_classes, class_thresholds = None):\n",
    "        \n",
    "        self.patch_dataset = patch_dataset\n",
    "        self.patch_size = patch_dataset[0][0].shape[0]\n",
    "        self.total_pixels = self.patch_size * self.patch_size\n",
    "        self.class_thresholds = class_thresholds\n",
    "        \n",
    "        embeddings, labels, class_thresholds, pixel_counts, patch_data_idx_to_emb_idx = EmptyPatchDataset.init_from_patch_dataset(patch_dataset, \n",
    "                                                                                                  n_classes, class_thresholds)\n",
    "        \n",
    "        self.embeddings = embeddings\n",
    "        self.labels = labels\n",
    "        self.class_thresholds = class_thresholds\n",
    "        self.pixel_counts = pixel_counts\n",
    "        self.patch_data_idx_to_emb_idx = patch_data_idx_to_emb_idx\n",
    "        self.n_classes = n_classes\n",
    "        \n",
    "\n",
    "            \n",
    "    def __len__(self):\n",
    "        return len(self.embeddings)\n",
    "    \n",
    "    def __getitem__(self, i):\n",
    "\n",
    "        if isinstance(i, slice):\n",
    "            start = i.start if i.start else 0\n",
    "            stop = i.stop if i.stop else len(self.X_1)\n",
    "            step = i.step if i.step else 1\n",
    "\n",
    "            return [(self.embeddings[j], self.labels[j]) for j in range(start, stop, step)]\n",
    "\n",
    "        return (self.embeddings[i], self.labels[i])\n",
    "        \n",
    "        \n",
    "    @staticmethod\n",
    "    def get_black_pixels(img, show = False):\n",
    "        gray = cv.cvtColor(img, cv.COLOR_RGB2GRAY)\n",
    "        gray = cv.GaussianBlur(gray, (3, 3), 0)\n",
    "        edges = cv.Canny(gray, 50, 150)\n",
    "        \n",
    "        if show:\n",
    "            fig, ax = plt.subplots()\n",
    "            ax.imshow(edges, cmap = \"binary\")\n",
    "            plt.show()\n",
    "\n",
    "        black_pixels = np.where(edges == 255)\n",
    "        \n",
    "        return len(black_pixels[0])\n",
    "    \n",
    "    def get_img_class(self, img):\n",
    "        black_pixels = EmptyPatchDataset.get_black_pixels(img)\n",
    "    \n",
    "    @staticmethod\n",
    "    def get_class_thresholds(pixel_counts):\n",
    "        thresholds = []\n",
    "        prev_min = 0\n",
    "\n",
    "        for partition in pixel_counts:\n",
    "            thresh = np.max(partition)\n",
    "\n",
    "            if thresh > prev_min:\n",
    "                thresholds.append(thresh)\n",
    "            else:\n",
    "                thresholds.append(np.min(partition[partition > thresh]))\n",
    "        return thresholds\n",
    "    \n",
    "    def plot_pixel_distribution(self, bins = 25, use_counts = False):\n",
    "        fig, ax = plt.subplots()\n",
    "        sns.histplot(\n",
    "            data = self.pixel_counts,\n",
    "            discrete = False,\n",
    "            stat = \"count\" if use_counts else \"probability\",\n",
    "            bins = bins,\n",
    "            ax = ax\n",
    "        )\n",
    "        plt.show()\n",
    "        \n",
    "        \n",
    "    @staticmethod\n",
    "    def init_from_patch_dataset(patch_dataset, n_classes = 5, class_thresholds = None):\n",
    "        patch_data_idx_to_emb_idx = {}\n",
    "        embeddings = []\n",
    "        pixel_counts = []\n",
    "        \n",
    "        emb_idx = 0\n",
    "        Xs = [patch_dataset.X_1, patch_dataset.X_2]\n",
    "        \n",
    "        for i in range(len(patch_dataset)):\n",
    "            for j in range(2):\n",
    "                patch = Xs[j][i]\n",
    "                embeddings.append(patch.patch_shift)\n",
    "                pixel_counts.append(EmptyPatchDataset.get_black_pixels(patch.patch))\n",
    "                patch_data_idx_to_emb_idx[emb_idx] = (i,j)\n",
    "                emb_idx += 1\n",
    "                \n",
    "        if class_thresholds is None:\n",
    "            split_pixel_counts = np.array_split(np.sort(pixel_counts), n_classes)\n",
    "            class_thresholds = EmptyPatchDataset.get_class_thresholds(split_pixel_counts)\n",
    "            \n",
    "        labels = np.digitize(pixel_counts, class_thresholds, right=True)\n",
    "        \n",
    "        return embeddings, labels, class_thresholds, pixel_counts, patch_data_idx_to_emb_idx\n",
    "    \n",
    "    def init_validation_dataset(self, val_dataset):\n",
    "        return EmptyPatchDataset(val_dataset, n_classes = self.n_classes, class_thresholds = self.class_thresholds)\n",
    "    \n",
    "        def save(self, file_name):\n",
    "        with open(file_name, \"wb\") as f:\n",
    "            pk.dump(self, f)"
   ]
  },
  {
   "cell_type": "markdown",
   "id": "ffda5840-abea-479d-9f8b-71415f31068f",
   "metadata": {
    "jp-MarkdownHeadingCollapsed": true,
    "tags": []
   },
   "source": [
    "### Experiments"
   ]
  },
  {
   "cell_type": "code",
   "execution_count": 127,
   "id": "ce81ed6a-42ff-4a27-90d5-1e571cc2b0fb",
   "metadata": {},
   "outputs": [
    {
     "data": {
      "text/plain": [
       "array([3, 0, 0, 1, 2, 3])"
      ]
     },
     "execution_count": 127,
     "metadata": {},
     "output_type": "execute_result"
    }
   ],
   "source": [
    "my_data = [0.79, 0.01,0.02, 0.3,0.7,0.78]\n",
    "thresholds = [0.1,0.5,0.76]\n",
    "np.digitize(my_data, thresholds, right=True)"
   ]
  },
  {
   "cell_type": "code",
   "execution_count": 5,
   "id": "33409b66-b7f0-4c04-9007-a49cc69b95a5",
   "metadata": {},
   "outputs": [],
   "source": [
    "with open(\"../../py/output/patch_train_dataset_128.pk\", \"rb\") as f:\n",
    "    train_data = pk.load(f)\n",
    "    \n",
    "with open(\"../../py/output/patch_val_dataset_128.pk\", \"rb\") as f:\n",
    "    val_data = pk.load(f)"
   ]
  },
  {
   "cell_type": "code",
   "execution_count": 64,
   "id": "72a2a431-8b9f-4913-a6f4-271f21558707",
   "metadata": {},
   "outputs": [],
   "source": [
    "epds = EmptyPatchDataset(val_data)"
   ]
  },
  {
   "cell_type": "code",
   "execution_count": 26,
   "id": "e3c27968-18dd-4e15-8861-b6b4d2687880",
   "metadata": {},
   "outputs": [
    {
     "data": {
      "image/png": "[encoded data removed]",
      "text/plain": [
       "<Figure size 640x480 with 1 Axes>"
      ]
     },
     "metadata": {},
     "output_type": "display_data"
    },
    {
     "name": "stdout",
     "output_type": "stream",
     "text": [
      "0.061279296875\n"
     ]
    }
   ],
   "source": [
    "patch = val_data.X_1[0]\n",
    "img = patch.patch\n",
    "\n",
    "#patch.show()\n",
    "\n",
    "print(epds.get_black_pixels(img, show = True) / epds.total_pixels)"
   ]
  },
  {
   "cell_type": "code",
   "execution_count": 79,
   "id": "a2788cf1-a16e-4658-b5af-8b4a8b05e59a",
   "metadata": {},
   "outputs": [],
   "source": [
    "pixel_counts = np.array([epds.get_black_pixels(patch[i]) for i in range(2) for patch in val_data])\n",
    "pixel_count_density = np.array([pixel_count / epds.total_pixels for pixel_count in pixel_counts])"
   ]
  },
  {
   "cell_type": "code",
   "execution_count": 80,
   "id": "26ca1edd-ffda-463a-bfa2-ac477086d810",
   "metadata": {},
   "outputs": [],
   "source": [
    "with open(\"black_pixels_train.pk\", \"rb\") as f:\n",
    "    pixel_counts_train = np.array(pk.load(f))\n",
    "pixel_count_train_density = np.array([pixel_count / epds.total_pixels for pixel_count in pixel_counts_train])"
   ]
  },
  {
   "cell_type": "code",
   "execution_count": 87,
   "id": "27cb1bd8-3c25-49be-a7b3-8c9d4eb4cee1",
   "metadata": {},
   "outputs": [
    {
     "data": {
      "image/png": "[encoded data removed]",
      "text/plain": [
       "<Figure size 1000x500 with 2 Axes>"
      ]
     },
     "metadata": {},
     "output_type": "display_data"
    }
   ],
   "source": [
    "fig, ax = plt.subplots(1,2, figsize = (10,5), sharey = True, sharex = True)\n",
    "sns.histplot(\n",
    "    data=pixel_count_density,\n",
    "    discrete=False,\n",
    "    stat='probability',\n",
    "    bins = 25,\n",
    "    ax = ax[0]\n",
    ")\n",
    "sns.histplot(\n",
    "    data=pixel_count_train_density,\n",
    "    discrete=False,\n",
    "    stat='probability',\n",
    "    bins = 25,\n",
    "    ax = ax[1]\n",
    ")\n",
    "ax[0].set_title(\"Validation\")\n",
    "ax[1].set_title(\"Training\")\n",
    "plt.show()"
   ]
  },
  {
   "cell_type": "code",
   "execution_count": 99,
   "id": "9eda869c-58e8-47c5-8474-3950a76f10a7",
   "metadata": {},
   "outputs": [
    {
     "data": {
      "text/plain": [
       "0.01738525390625"
      ]
     },
     "execution_count": 99,
     "metadata": {},
     "output_type": "execute_result"
    }
   ],
   "source": [
    "np.max(pixel_count_train_density)/25"
   ]
  },
  {
   "cell_type": "code",
   "execution_count": 98,
   "id": "944eccb7-b970-4f29-8546-6d07c1d09513",
   "metadata": {},
   "outputs": [
    {
     "data": {
      "text/plain": [
       "array([0.        , 0.01810964, 0.03621928, 0.05432892, 0.07243856,\n",
       "       0.0905482 , 0.10865784, 0.12676748, 0.14487712, 0.16298676,\n",
       "       0.18109639, 0.19920603, 0.21731567, 0.23542531, 0.25353495,\n",
       "       0.27164459, 0.28975423, 0.30786387, 0.32597351, 0.34408315,\n",
       "       0.36219279, 0.38030243, 0.39841207, 0.41652171, 0.43463135])"
      ]
     },
     "execution_count": 98,
     "metadata": {},
     "output_type": "execute_result"
    }
   ],
   "source": [
    "np.linspace(0,np.max(pixel_count_train_density), 25)"
   ]
  },
  {
   "cell_type": "code",
   "execution_count": 100,
   "id": "871b53c7-406e-4b90-87f9-2e91feaf11cb",
   "metadata": {},
   "outputs": [
    {
     "data": {
      "text/plain": [
       "0.1627930210802612"
      ]
     },
     "execution_count": 100,
     "metadata": {},
     "output_type": "execute_result"
    }
   ],
   "source": [
    "len(pixel_count_train_density[pixel_count_train_density < 0.01810964])/len(pixel_count_train_density)\n",
    "\n",
    "\n"
   ]
  },
  {
   "cell_type": "code",
   "execution_count": 105,
   "id": "68603783-2417-4dfd-8184-99f7b5b8042d",
   "metadata": {},
   "outputs": [],
   "source": [
    "split_train = np.array_split(np.sort(pixel_count_train_density), 5)"
   ]
  },
  {
   "cell_type": "code",
   "execution_count": 106,
   "id": "a3644a50-dbe8-41d3-81bf-e8b2736927de",
   "metadata": {},
   "outputs": [
    {
     "data": {
      "text/plain": [
       "[array([0.00128174, 0.00128174, 0.00128174, ..., 0.02185059, 0.02185059,\n",
       "        0.02185059]),\n",
       " array([0.02185059, 0.02185059, 0.02185059, ..., 0.0524292 , 0.0524292 ,\n",
       "        0.0524292 ]),\n",
       " array([0.0524292 , 0.0524292 , 0.0524292 , ..., 0.10852051, 0.10852051,\n",
       "        0.10852051]),\n",
       " array([0.10852051, 0.10852051, 0.10852051, ..., 0.18133545, 0.18133545,\n",
       "        0.18133545]),\n",
       " array([0.18133545, 0.18133545, 0.18133545, ..., 0.43463135, 0.43463135,\n",
       "        0.43463135])]"
      ]
     },
     "execution_count": 106,
     "metadata": {},
     "output_type": "execute_result"
    }
   ],
   "source": [
    "split_train"
   ]
  },
  {
   "cell_type": "code",
   "execution_count": 109,
   "id": "81c46d32-714d-4aef-885c-cc0a3229123b",
   "metadata": {},
   "outputs": [],
   "source": [
    "def get_partition_thresholds(pixel_props):\n",
    "    thresholds = []\n",
    "    prev_min = 0\n",
    "    \n",
    "    for partition in pixel_props:\n",
    "        thresh = np.max(partition)\n",
    "        \n",
    "        if thresh > prev_min:\n",
    "            thresholds.append(thresh)\n",
    "        else:\n",
    "            thresholds.append(np.min(partition[partition > thresh]))\n",
    "    return thresholds"
   ]
  },
  {
   "cell_type": "code",
   "execution_count": 119,
   "id": "a4762255-e2c9-4d12-b82a-b202b0538b1a",
   "metadata": {},
   "outputs": [
    {
     "name": "stdout",
     "output_type": "stream",
     "text": [
      "43995\n",
      "44035\n",
      "44073\n",
      "44056\n",
      "44044\n"
     ]
    }
   ],
   "source": [
    "threshes = get_partition_thresholds(split_train)\n",
    "\n",
    "prev_thresh = 0\n",
    "\n",
    "for thresh in threshes:\n",
    "    threshed = pixel_count_train_density[pixel_count_train_density>=prev_thresh]\n",
    "    threshed = threshed[threshed < thresh]\n",
    "    print(len(threshed))\n",
    "    prev_thresh = thresh"
   ]
  },
  {
   "cell_type": "code",
   "execution_count": 120,
   "id": "e1c28686-dece-4bf2-a67d-50901c9216ee",
   "metadata": {},
   "outputs": [
    {
     "data": {
      "text/plain": [
       "220206"
      ]
     },
     "execution_count": 120,
     "metadata": {},
     "output_type": "execute_result"
    }
   ],
   "source": [
    "len(pixel_count_train_density)"
   ]
  },
  {
   "cell_type": "code",
   "execution_count": 121,
   "id": "a2f17d91-cb5d-4bd7-8fec-68c38fe510f4",
   "metadata": {},
   "outputs": [
    {
     "data": {
      "text/plain": [
       "220000"
      ]
     },
     "execution_count": 121,
     "metadata": {},
     "output_type": "execute_result"
    }
   ],
   "source": [
    "44000*5"
   ]
  },
  {
   "cell_type": "code",
   "execution_count": null,
   "id": "85c8c8af-244f-4d33-a0f6-b57a5b05ac1c",
   "metadata": {},
   "outputs": [],
   "source": []
  },
  {
   "cell_type": "markdown",
   "id": "f916f8fc-024b-4159-9f84-f652b9538a27",
   "metadata": {},
   "source": [
    "### Tests"
   ]
  },
  {
   "cell_type": "code",
   "execution_count": 129,
   "id": "332c1206-6a98-4b9d-a5ba-229b3e287683",
   "metadata": {},
   "outputs": [],
   "source": [
    "with open(\"../../py/output/patch_train_dataset_128.pk\", \"rb\") as f:\n",
    "    train_data = pk.load(f)\n",
    "    \n",
    "with open(\"../../py/output/patch_val_dataset_128.pk\", \"rb\") as f:\n",
    "    val_data = pk.load(f)"
   ]
  },
  {
   "cell_type": "code",
   "execution_count": 152,
   "id": "3f1d4a38-babb-49cf-bbb7-187ccec4799d",
   "metadata": {},
   "outputs": [],
   "source": [
    "epds_train = EmptyPatchDataset(train_data, n_classes = 5, class_thresholds = None)\n",
    "epds_val = epds_train.init_validation_dataset(val_data)"
   ]
  },
  {
   "cell_type": "code",
   "execution_count": 153,
   "id": "91557a12-1010-4fec-9011-3fda57eba988",
   "metadata": {},
   "outputs": [
    {
     "data": {
      "image/png": "[encoded data removed]",
      "text/plain": [
       "<Figure size 640x480 with 1 Axes>"
      ]
     },
     "metadata": {},
     "output_type": "display_data"
    }
   ],
   "source": [
    "epds_train.plot_pixel_distribution()"
   ]
  },
  {
   "cell_type": "code",
   "execution_count": 154,
   "id": "b4216798-3d9e-400d-b4b2-69c075b2509b",
   "metadata": {},
   "outputs": [
    {
     "data": {
      "image/png": "[encoded data removed]",
      "text/plain": [
       "<Figure size 640x480 with 1 Axes>"
      ]
     },
     "metadata": {},
     "output_type": "display_data"
    }
   ],
   "source": [
    "epds_val.plot_pixel_distribution()"
   ]
  },
  {
   "cell_type": "code",
   "execution_count": 160,
   "id": "6572ea0d-f42c-4fb6-8874-152bad125ecf",
   "metadata": {},
   "outputs": [
    {
     "data": {
      "text/plain": [
       "array([0.02185059, 0.0524292 , 0.10852051, 0.18133545, 0.43463135])"
      ]
     },
     "execution_count": 160,
     "metadata": {},
     "output_type": "execute_result"
    }
   ],
   "source": [
    "np.array(epds_train.class_thresholds) / epds_train.total_pixels"
   ]
  },
  {
   "cell_type": "code",
   "execution_count": 161,
   "id": "4798e9ad-9e17-4a0b-9798-a3743b87d019",
   "metadata": {},
   "outputs": [
    {
     "data": {
      "text/plain": [
       "array([0.02185059, 0.0524292 , 0.10852051, 0.18133545, 0.43463135])"
      ]
     },
     "execution_count": 161,
     "metadata": {},
     "output_type": "execute_result"
    }
   ],
   "source": [
    "np.array(epds_val.class_thresholds) / epds_train.total_pixels"
   ]
  },
  {
   "cell_type": "markdown",
   "id": "40884651-c943-40b0-954d-4a686d93739d",
   "metadata": {},
   "source": [
    "### Classifier"
   ]
  },
  {
   "cell_type": "code",
   "execution_count": 174,
   "id": "22f8b781-479c-4ba4-b831-d9fb775dda7c",
   "metadata": {},
   "outputs": [],
   "source": [
    "class EmptyPatchClassifier(nn.Module):\n",
    "    def __init__(self, first_hidden_parameters, second_hidden_parameters, output_parameters):\n",
    "        super(EmptyPatchClassifier, self).__init__()\n",
    "        \n",
    "        self.hidden_mlp_1 = MLP(**first_hidden_parameterst_hidden_parameters)\n",
    "        self.hidden_mlp_2 = MLP(**second_hidden_parameters)\n",
    "        self.output_mlp = MLP(**output_parameters)\n",
    "    \n",
    "        self.classifier = nn.Sequential(self.hidden_mlp_1, self.hidden_mlp_2, self.output_mlp)\n",
    "        \n",
    "        self.criterion = nn.CrossEntropyLoss()\n",
    "        self.optimiser = None\n",
    "        \n",
    "        self.device = torch.device(\"cuda\" if torch.cuda.is_available() else \"cpu\")\n",
    "\n",
    "        self.checkpoint = {\"epoch\": 0,\n",
    "                           \"batch\": 0,\n",
    "                           \"model_state_dict\": self.state_dict(),\n",
    "                           \"optimiser_state_dict\": None,\n",
    "                           \"loss\": 0,\n",
    "                           \"avg_batch_losses_20\": [],\n",
    "                           \"batch_losses\": [],\n",
    "                           \"validation_losses \": [],\n",
    "                           \"run_start\": datetime.now().strftime(\"%d/%m/%Y %H:%M:%S\"),\n",
    "                           \"run_end\": None,\n",
    "                           \"model_kwargs\": self.kwargs}\n",
    "        \n",
    "    def forward(self, x):\n",
    "        return self.classifier(x)\n",
    "    \n",
    "    def predict(self, x):\n",
    "        y = self.classifier(x)\n",
    "        \n",
    "        return np.argmax(y)\n",
    "    \n",
    "    def compile_optimiser(self, **kwargs):\n",
    "        self.optimiser = optim.Adam(self.parameters(), **kwargs) \n",
    "        \n",
    "    def get_loss(self, y_true, y_pred):\n",
    "        return self.criterion(y_true, y_pred)\n",
    "    \n",
    "    @torch.no_grad()\n",
    "    def evaluate(self, evaluation_loader, validation = True):\n",
    "\n",
    "        eval_losses = []\n",
    "\n",
    "        self.eval()\n",
    "\n",
    "        for embeddings, y_true in validation_loader:\n",
    "            embeddings, y_true = embeddings.to(self.device), y_true.to(self.device)\n",
    "            y_pred = self.classifier(embeddings)\n",
    "            val_losses.append(self.get_loss(y_true = y_true, y_pred = y_pred).cpu())\n",
    "\n",
    "        if validation:\n",
    "            self.train()\n",
    "            return np.mean(val_losses)\n",
    "\n",
    "        return val_losses\n",
    "    \n",
    "    def update_checkpoint(self, checkpoint_dir, batch_losses, validation_losses, **checkpoint_data):\n",
    "\n",
    "        for k, v in checkpoint_data.items():\n",
    "            if k in self.checkpoint:\n",
    "                self.checkpoint[k] = v\n",
    "\n",
    "        if checkpoint_dir is not None:\n",
    "\n",
    "            if not os.path.isdir(checkpoint_dir):\n",
    "                os.makedirs(checkpoint_dir)\n",
    "\n",
    "            model_params_dir = os.path.join(checkpoint_dir, \"empty_classifier_checkpoint.pt\")\n",
    "            torch.save(self.checkpoint, model_params_dir)\n",
    "\n",
    "            batch_loss_train_dir = os.path.join(checkpoint_dir,\n",
    "                                                f\"batch_loss_logs_t{checkpoint_data.get('epoch', 0)}.pk\")\n",
    "            with open(batch_loss_train_dir, \"wb\") as f:\n",
    "                pk.dump(batch_losses, f)\n",
    "\n",
    "            batch_loss_validation_dir = os.path.join(checkpoint_dir,\n",
    "                                                     f\"batch_loss_logs_v{checkpoint_data.get('epoch', 0)}.pk\")\n",
    "            with open(batch_loss_validation_dir, \"wb\") as f:\n",
    "                pk.dump(validation_losses, f)\n",
    "    \n",
    "    def train_model(self, train_loader, validation_loader, epochs, checkpoint_dir=None, batch_log_rate=100):\n",
    "\n",
    "        self.to(self.device)\n",
    "\n",
    "        for epoch in range(epochs):\n",
    "            batch_losses = []\n",
    "            validation_losses = []\n",
    "            avg_batch_losses_20 = []\n",
    "\n",
    "            logging.info(f\"Starting Epoch: {epoch + 1}\")\n",
    "\n",
    "            for batch, (embeddings, y_true) in enumerate(train_loader):\n",
    "\n",
    "                self.optimiser.zero_grad()\n",
    "\n",
    "                embeddings, y_true = embeddings.to(self.device), y_true.to(self.device)\n",
    "                y_pred = self.classifier(embeddings)\n",
    "\n",
    "                loss = self.get_loss(y_true = y_true, y_pred = y_pred)\n",
    "\n",
    "                batch_losses.append(loss.cpu().detach())\n",
    "\n",
    "                loss.backward()\n",
    "                self.optimiser.step()\n",
    "\n",
    "                if batch % (len(train_loader) // batch_log_rate + 1) == 0 and batch != 0:\n",
    "                    with torch.no_grad():\n",
    "                        avg_loss = np.mean(batch_losses[-20:])\n",
    "                        avg_batch_losses_20.append(avg_loss)\n",
    "                        logging.info(\n",
    "                            f\"Epoch {epoch + 1}: [{batch + 1}/{len(train_loader)}] ---- CrossEntropy Training Loss = {avg_loss}\")\n",
    "\n",
    "                        if batch % (len(train_loader) // (batch_log_rate//4) + 1) == 0:\n",
    "                            validation_loss = self.get_validation_loss(validation_loader)\n",
    "                            validation_losses.append(validation_loss)\n",
    "                            logging.info(\n",
    "                                f\"Epoch {epoch + 1}: [{batch + 1}/{len(train_loader)}] ---- CrossEntropy Validation Loss = {validation_loss}\")\n",
    "\n",
    "                        self.update_checkpoint(checkpoint_dir=checkpoint_dir,\n",
    "                                               batch_losses=batch_losses,\n",
    "                                               validation_losses=validation_losses,\n",
    "                                               epoch=epoch,\n",
    "                                               batch=batch,\n",
    "                                               model_state_dict=self.state_dict(),\n",
    "                                               optimiser_state_dict=self.optimiser.state_dict,\n",
    "                                               loss=loss.cpu().detach(),\n",
    "                                               avg_batch_losses_20=avg_batch_losses_20,\n",
    "                                               run_end=datetime.now().strftime(\"%d/%m/%Y %H:%M:%S\"))\n",
    "\n",
    "            with torch.no_grad():\n",
    "                self.update_checkpoint(checkpoint_dir=checkpoint_dir,\n",
    "                                       batch_losses=batch_losses,\n",
    "                                       validation_losses=validation_losses,\n",
    "                                       epoch=epochs,\n",
    "                                       batch=len(train_loader),\n",
    "                                       model_state_dict=self.state_dict(),\n",
    "                                       optimiser_state_dict=self.optimiser.state_dict,\n",
    "                                       loss=loss.cpu().detach(),\n",
    "                                       avg_batch_losses_20=avg_batch_losses_20,\n",
    "                                       run_end=datetime.now().strftime(\"%d/%m/%Y %H:%M:%S\"))\n",
    "\n",
    "        return self.checkpoint"
   ]
  },
  {
   "cell_type": "code",
   "execution_count": null,
   "id": "f83c7ad9-569a-4997-9fc9-681335034158",
   "metadata": {},
   "outputs": [],
   "source": []
  }
 ],
 "metadata": {
  "kernelspec": {
   "display_name": "henv",
   "language": "python",
   "name": "henv"
  },
  "language_info": {
   "codemirror_mode": {
    "name": "ipython",
    "version": 3
   },
   "file_extension": ".py",
   "mimetype": "text/x-python",
   "name": "python",
   "nbconvert_exporter": "python",
   "pygments_lexer": "ipython3",
   "version": "3.9.7"
  }
 },
 "nbformat": 4,
 "nbformat_minor": 5
}
